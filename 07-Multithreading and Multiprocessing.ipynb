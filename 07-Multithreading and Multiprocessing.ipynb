{
 "cells": [
  {
   "cell_type": "markdown",
   "metadata": {},
   "source": [
    "# Byte Academy - Part Time Data Science Batch\n",
    "#### 13-04-2019 - Saturday Class\n",
    "This Notebook is part of Lecture series on Advanced Built in Python Modules delviered by Jithin."
   ]
  },
  {
   "cell_type": "markdown",
   "metadata": {},
   "source": [
    "## Multi Processing"
   ]
  },
  {
   "cell_type": "code",
   "execution_count": 3,
   "metadata": {},
   "outputs": [
    {
     "name": "stdout",
     "output_type": "stream",
     "text": [
      "square 4\n",
      "square 9\n",
      "square 64\n",
      "cube 8\n",
      "cube 27\n",
      "cube 512\n",
      "Done!\n"
     ]
    }
   ],
   "source": [
    "def calc_square(numbers):\n",
    "    for n in numbers:\n",
    "        print('square ' + str(n*n))\n",
    "\n",
    "def calc_cube(numbers):\n",
    "    for n in numbers:\n",
    "        print('cube ' + str(n*n*n))\n",
    "\n",
    "arr = [2,3,8]\n",
    "calc_square(arr)\n",
    "calc_cube(arr)\n",
    "print('Done!')"
   ]
  },
  {
   "cell_type": "code",
   "execution_count": 2,
   "metadata": {},
   "outputs": [
    {
     "name": "stdout",
     "output_type": "stream",
     "text": [
      "square 4\n",
      "cube 8\n",
      "square 9\n",
      "cube 27\n",
      "square 64\n",
      "cube 512\n",
      "Done!\n"
     ]
    }
   ],
   "source": [
    "import time\n",
    "import multiprocessing\n",
    "\n",
    "def calc_square(numbers):\n",
    "    for n in numbers:\n",
    "        print('square ' + str(n*n))\n",
    "\n",
    "def calc_cube(numbers):\n",
    "    for n in numbers:\n",
    "        print('cube ' + str(n*n*n))\n",
    "\n",
    "\n",
    "arr = [2,3,8]\n",
    "p1 = multiprocessing.Process(target=calc_square, args=(arr,))\n",
    "p2 = multiprocessing.Process(target=calc_cube, args=(arr,))\n",
    "\n",
    "p1.start()\n",
    "p2.start()\n",
    "\n",
    "p1.join()\n",
    "p2.join()\n",
    "\n",
    "print(\"Done!\")"
   ]
  },
  {
   "cell_type": "code",
   "execution_count": 6,
   "metadata": {},
   "outputs": [
    {
     "name": "stdout",
     "output_type": "stream",
     "text": [
      "1\n",
      "4\n",
      "9\n",
      "16\n",
      "25\n"
     ]
    }
   ],
   "source": [
    "from multiprocessing import Pool\n",
    "\n",
    "\n",
    "def f(n):\n",
    "    return n*n\n",
    "\n",
    "if __name__ == \"__main__\":\n",
    "    p = Pool(processes=3)\n",
    "    result = p.map(f,[1,2,3,4,5])\n",
    "    for n in result:\n",
    "        print(n)"
   ]
  },
  {
   "cell_type": "code",
   "execution_count": 8,
   "metadata": {},
   "outputs": [
    {
     "name": "stdout",
     "output_type": "stream",
     "text": [
      "calculate square numbers\n",
      "square: 4\n",
      "square: 9\n",
      "square: 64\n",
      "square: 81\n",
      "calculate cube of numbers\n",
      "cube: 8\n",
      "cube: 27\n",
      "cube: 512\n",
      "cube: 729\n",
      "done in :  8.01665711402893\n",
      "Hah... I am done with all my work now!\n"
     ]
    }
   ],
   "source": [
    "t = time.time()\n",
    "\n",
    "calc_square(arr)\n",
    "calc_cube(arr)\n",
    "\n",
    "print(\"done in : \",time.time()-t)\n",
    "print(\"Hah... I am done with all my work now!\")"
   ]
  },
  {
   "cell_type": "code",
   "execution_count": 7,
   "metadata": {},
   "outputs": [
    {
     "name": "stdout",
     "output_type": "stream",
     "text": [
      "calculate square numbers\n",
      "calculate cube of numbers\n",
      "square: 4\n",
      "cube: 8\n",
      "square: 9\n",
      "cube: 27\n",
      "square: 64\n",
      "cube: 512\n",
      "square: 81\n",
      "cube: 729\n",
      "done in :  4.01216983795166\n",
      "Hah... I am done with all my work now!\n"
     ]
    }
   ],
   "source": [
    "import time\n",
    "import threading\n",
    "\n",
    "def calc_square(numbers):\n",
    "    print(\"calculate square numbers\")\n",
    "    for n in numbers:\n",
    "        time.sleep(1)\n",
    "        print('square:',n*n)\n",
    "\n",
    "def calc_cube(numbers):\n",
    "    print(\"calculate cube of numbers\")\n",
    "    for n in numbers:\n",
    "        time.sleep(1)\n",
    "        print('cube:',n*n*n)\n",
    "\n",
    "arr = [2,3,8,9]\n",
    "\n",
    "t = time.time()\n",
    "\n",
    "t1= threading.Thread(target=calc_square, args=(arr,))\n",
    "t2= threading.Thread(target=calc_cube, args=(arr,))\n",
    "\n",
    "t1.start()\n",
    "t2.start()\n",
    "\n",
    "t1.join()\n",
    "t2.join()\n",
    "\n",
    "print(\"done in : \",time.time()-t)\n",
    "print(\"Hah... I am done with all my work now!\")"
   ]
  },
  {
   "cell_type": "code",
   "execution_count": null,
   "metadata": {},
   "outputs": [],
   "source": []
  }
 ],
 "metadata": {
  "kernelspec": {
   "display_name": "Python 3",
   "language": "python",
   "name": "python3"
  },
  "language_info": {
   "codemirror_mode": {
    "name": "ipython",
    "version": 3
   },
   "file_extension": ".py",
   "mimetype": "text/x-python",
   "name": "python",
   "nbconvert_exporter": "python",
   "pygments_lexer": "ipython3",
   "version": "3.7.2"
  }
 },
 "nbformat": 4,
 "nbformat_minor": 2
}
