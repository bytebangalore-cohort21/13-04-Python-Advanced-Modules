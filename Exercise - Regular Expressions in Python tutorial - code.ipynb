{
 "metadata": {
  "name": "Regular Expressions in Python tutorial - code"
 },
 "nbformat": 3,
 "nbformat_minor": 0,
 "worksheets": [
  {
   "cells": [
    {
     "cell_type": "markdown",
     "metadata": {},
     "source": [
      "Regular Expressions in Python - Exercises\n",
      "-----------------------------\n",
      "PyLadies Meetup, August 2013\n",
      "\n",
      "Michelle Fullwood"
     ]
    },
    {
     "cell_type": "code",
     "collapsed": false,
     "input": [
      "# Before doing anything else, run this code block.\n",
      "# To do that, either press the play button above, or press Shift+Enter\n",
      "import re \n",
      "\n",
      "# This makes available the functions in the re module - re.search, re.match, re.findall, etc\n",
      "\n",
      "# Don't worry about understanding the code below just now, it's just for testing purposes\n",
      "def test_regex(regex_name, regex, successful_cases, unsuccessful_cases):\n",
      "    cregex = re.compile(regex)\n",
      "    errors = 0\n",
      "    for case in successful_cases:\n",
      "        if not cregex.search(case):\n",
      "            print \"Your %s didn't match %s\" % (regex_name, case)\n",
      "            errors += 1\n",
      "    for case in unsuccessful_cases:\n",
      "        if cregex.search(case):\n",
      "            print \"Your %s matched %s when it wasn't supposed to\" % (regex_name, case)\n",
      "            errors += 1\n",
      "    if errors == 0:\n",
      "        print \"No errors in your %s\" % regex_name\n",
      "        \n",
      "print \"Yay you successfully ran this code block!\""
     ],
     "language": "python",
     "metadata": {},
     "outputs": [
      {
       "output_type": "stream",
       "stream": "stdout",
       "text": [
        "Yay you successfully ran this code block!\n"
       ]
      }
     ],
     "prompt_number": 2
    },
    {
     "cell_type": "code",
     "collapsed": false,
     "input": [
      "# Exercise 1 - Using metacharacters\n",
      "\n",
      "# Match sequences that look like this: A1B C2D - pairs of letter-digit-letter sequences.\n",
      "# Your regular expression should consist of a string of metacharacters\n",
      "regex  = r'...' # replace the ellipsis with a suitable regular expression\n",
      "string = 'A1B C2D' \n",
      "re.match(regex, string)"
     ],
     "language": "python",
     "metadata": {},
     "outputs": [
      {
       "output_type": "pyout",
       "prompt_number": 2,
       "text": [
        "<_sre.SRE_Match at 0x29663d8>"
       ]
      }
     ],
     "prompt_number": 2
    },
    {
     "cell_type": "code",
     "collapsed": false,
     "input": [
      "# Exercise 1 (continued) - what happens if we try to match a non-matching string?\n",
      "\n",
      "string = 'A1B_C2D' # play around with this and see what happens!\n",
      "re.match(regex, string)"
     ],
     "language": "python",
     "metadata": {},
     "outputs": [],
     "prompt_number": 3
    },
    {
     "cell_type": "code",
     "collapsed": false,
     "input": [
      "# Exercise 2 - Specifying custom sets of characters\n",
      "\n",
      "# We saw some metacharacters in the previous slide: \\w, \\d, \\s\n",
      "# Define custom character ranges that are equivalent to these, \n",
      "# WITHOUT using metacharacters (things like \\n are fine)\n",
      "\n",
      "# Exercise 2a\n",
      "digit_regex     = r'[...]' # match definition of \\d\n",
      "\n",
      "# Exercise 2b\n",
      "wordlike_regex  = r'[...]' # match definition of \\w (at least, for English)\n",
      "\n",
      "# Exercise 2c\n",
      "spacelike_regex = r'[...]' # match definition of \\s\n",
      "\n",
      "# No need to edit below this point. Run this code block to see if your answers were correct.\n",
      "\n",
      "test_regex('Digit regex', digit_regex, '0123456789', 'aZ \\t\\n$_')\n",
      "test_regex('Wordlike regex', wordlike_regex, 'ampBLY_058', ' \\t\\n-$')\n",
      "test_regex('Spacelike regex', spacelike_regex, ' \\t\\r\\n', 'ahlB_-$9')"
     ],
     "language": "python",
     "metadata": {},
     "outputs": [
      {
       "output_type": "stream",
       "stream": "stdout",
       "text": [
        "Your Digit regex didn't match 0\n",
        "Your Digit regex didn't match 1\n",
        "Your Digit regex didn't match 2\n",
        "Your Digit regex didn't match 3\n",
        "Your Digit regex didn't match 4\n",
        "Your Digit regex didn't match 5\n",
        "Your Digit regex didn't match 6\n",
        "Your Digit regex didn't match 7\n",
        "Your Digit regex didn't match 8\n",
        "Your Digit regex didn't match 9\n",
        "Your Wordlike regex didn't match a\n",
        "Your Wordlike regex didn't match m\n",
        "Your Wordlike regex didn't match p\n",
        "Your Wordlike regex didn't match B\n",
        "Your Wordlike regex didn't match L\n",
        "Your Wordlike regex didn't match Y\n",
        "Your Wordlike regex didn't match _\n",
        "Your Wordlike regex didn't match 0\n",
        "Your Wordlike regex didn't match 5\n",
        "Your Wordlike regex didn't match 8\n",
        "Your Spacelike regex didn't match  \n",
        "Your Spacelike regex didn't match \t\n",
        "Your Spacelike regex didn't match \r\n",
        "Your Spacelike regex didn't match \n",
        "\n"
       ]
      }
     ],
     "prompt_number": 54
    },
    {
     "cell_type": "code",
     "collapsed": false,
     "input": [
      "# Exercise 3 - examples with ^, $, \\b\n",
      "\n",
      "# Go through each line and predict whether there will be a match or not. \n",
      "# Then run this code block and see whether you were right.\n",
      "\n",
      "print \"Match 1: \", re.search(r'^Hallo$', 'Hallo')        # Matches: yes/no\n",
      "print \"Match 2: \", re.search(r'^Hallo$', 'Hallo World')  # Matches: yes/no\n",
      "print \"Match 3: \", re.search(r'^Hallo$', 'Well, Hallo!') # Matches: yes/no\n",
      "\n",
      "print \"Match 4: \", re.search(r'\\bHallo\\b', 'Well, Hallo!') # Matches: yes/no\n",
      "print \"Match 5: \", re.search(r'\\bHallo\\b', 'Harry Potter and the Deathly Hallows') # Matches: yes/no"
     ],
     "language": "python",
     "metadata": {},
     "outputs": [
      {
       "output_type": "stream",
       "stream": "stdout",
       "text": [
        "Match 1:  <_sre.SRE_Match object at 0x2a6eed0>\n",
        "Match 2:  None\n",
        "Match 3:  None\n",
        "Match 4:  <_sre.SRE_Match object at 0x2a6eed0>\n",
        "Match 5:  None\n"
       ]
      }
     ],
     "prompt_number": 32
    },
    {
     "cell_type": "code",
     "collapsed": false,
     "input": [
      "# Exercise 4a - match prices $5.99 and less\n",
      "\n",
      "# Run this code block without changing anything\n",
      "\n",
      "price_regex = r'$[0-5].\\d\\d' # match strings $0.00 to $5.99\n",
      "\n",
      "if not re.match(price_regex, '$3.99'):\n",
      "   print \"Uh oh, it didn't match!\"\n",
      "    \n",
      "# Why not?"
     ],
     "language": "python",
     "metadata": {},
     "outputs": [
      {
       "output_type": "stream",
       "stream": "stdout",
       "text": [
        "Uh oh, it didn't work!\n"
       ]
      }
     ],
     "prompt_number": 26
    },
    {
     "cell_type": "code",
     "collapsed": false,
     "input": [
      "# Exercise 4b - fixing price regex\n",
      "\n",
      "# Fix the price_regex below and try running this code block\n",
      "\n",
      "price_regex = r'$[0-5].\\d\\d' # match strings $0.00 to $5.99\n",
      "\n",
      "if not re.match(price_regex, '$3.99'):\n",
      "    print \"Uh oh, it didn't match!\"\n",
      "    \n",
      "if re.match(price_regex, '$3999'):\n",
      "    print \"Uh oh, it matched $3999!\""
     ],
     "language": "python",
     "metadata": {},
     "outputs": [
      {
       "output_type": "stream",
       "stream": "stdout",
       "text": [
        "Uh oh, it matched $3999!\n"
       ]
      }
     ],
     "prompt_number": 34
    },
    {
     "cell_type": "code",
     "collapsed": false,
     "input": [
      "# Exercise 4c - fixing price regex\n",
      "\n",
      "# Fix the price_regex below and try running the code block (note: you'll have to fix two things!)\n",
      "\n",
      "price_regex = r'$[0-5].\\d\\d' # match strings $0.00 to $5.99\n",
      "\n",
      "if not re.match(price_regex, '$3.99'):\n",
      "    print \"Uh oh, it didn't match!\"\n",
      "    \n",
      "if re.match(price_regex, '$3999'):\n",
      "    print \"Uh oh, it matched $3999!\""
     ],
     "language": "python",
     "metadata": {},
     "outputs": [],
     "prompt_number": 35
    },
    {
     "cell_type": "code",
     "collapsed": false,
     "input": [
      "# Exercise 4d - checking that metacharacters have their usual meaning within []\n",
      "\n",
      "metacharacter_regex = r'[$^.]'\n",
      "test_regex('Metacharacter regex', metacharacter_regex, '^$.', 'a1')"
     ],
     "language": "python",
     "metadata": {},
     "outputs": [
      {
       "output_type": "stream",
       "stream": "stdout",
       "text": [
        "No errors in your Metacharacter regex\n"
       ]
      }
     ],
     "prompt_number": 37
    },
    {
     "cell_type": "code",
     "collapsed": false,
     "input": [
      "# Exercise 5a - Set complements\n",
      "\n",
      "# Let's rearrange the metacharacter_regex above. Why doesn't it work as we wanted?\n",
      "metacharacter_regex = r'[^$.]'\n",
      "test_regex('Metacharacter regex', metacharacter_regex, '^$.', 'a1')\n",
      "\n",
      "# What can we change to make it work, besides rearranging the characters?\n",
      "edited_metacharacter_regex = r'[^$.]'\n",
      "test_regex('Edited Metacharacter regex', edited_metacharacter_regex, '^$.', 'a1')\n",
      "\n",
      "# So, saying \"within character sets [], metacharacters have their regular meaning except backslashes\"\n",
      "# is true EXCEPT that ^ means complement if it's the first character [^...]. Elsewhere, it means the caret character."
     ],
     "language": "python",
     "metadata": {},
     "outputs": [
      {
       "output_type": "stream",
       "stream": "stdout",
       "text": [
        "Your Metacharacter regex didn't match $\n",
        "Your Metacharacter regex didn't match .\n",
        "Your Metacharacter regex matched a when it wasn't supposed to\n",
        "Your Metacharacter regex matched 1 when it wasn't supposed to\n",
        "Your Edited Metacharacter regex didn't match $\n",
        "Your Edited Metacharacter regex didn't match .\n",
        "Your Edited Metacharacter regex matched a when it wasn't supposed to\n",
        "Your Edited Metacharacter regex matched 1 when it wasn't supposed to\n"
       ]
      }
     ],
     "prompt_number": 40
    },
    {
     "cell_type": "code",
     "collapsed": false,
     "input": [
      "# Exercise 5b - Set complements\n",
      "\n",
      "# You're processing some DNA sequences and you notice that some of them have been corrupted - \n",
      "# they contain letters other than A,T,C and G! Write a regex that will let you remove the corrupted sequences.\n",
      "\n",
      "not_dna_regex = r'...' # match sequences that contain anything other than A, T, C and G\n",
      "test_regex('Not DNA regex', not_dna_regex, ['ATCHGA', '#*@!'], ['AGGGGGCTAA', 'ACGAT'])\n",
      "\n",
      "# Notice that your regex matches non-alphabetic characters as well!"
     ],
     "language": "python",
     "metadata": {},
     "outputs": [
      {
       "output_type": "stream",
       "stream": "stdout",
       "text": [
        "No errors in your Not DNA regex\n"
       ]
      }
     ],
     "prompt_number": 47
    },
    {
     "cell_type": "code",
     "collapsed": false,
     "input": [
      "# Exercise 5c - Set complements\n",
      "\n",
      "# You're looking at a list of purchases again. \n",
      "# Acme company uses product codes with A,B,C followed by three digits.\n",
      "# Axeme company uses product codes X,Y,Z followed by three digits.\n",
      "# Write a regex to extract lines with just Acme and Axeme's product codes, using a set complement.\n",
      "# Also, make sure that the product code occurs at the end of the line\n",
      "\n",
      "acme_axeme_regex = r'...'\n",
      "\n",
      "# No need to edit below this line\n",
      "matches = ['This line contains Acme product code C180', \n",
      "           'This line contains Axeme product X007']\n",
      "nonmatches = ['This line contains Hugo\\'s product code J982',\n",
      "              'This line contains an incorrect Axeme product code Z48A',\n",
      "              'This line contains Acme product code C180 but it\\'s not at the end.']\n",
      "test_regex('Acme/Axeme regex', acme_axeme_regex, matches, nonmatches)\n",
      "\n",
      "# Notice that we did something a bit dangerous here - the regex also matches product codes like '0000'.\n",
      "# So, be careful when using set complements!"
     ],
     "language": "python",
     "metadata": {},
     "outputs": [
      {
       "output_type": "stream",
       "stream": "stdout",
       "text": [
        "No errors in your Acme/Axeme regex\n"
       ]
      }
     ],
     "prompt_number": 50
    },
    {
     "cell_type": "code",
     "collapsed": false,
     "input": [
      "# Exercise 6a\n",
      "\n",
      "# Write a regex that matches the words bad, baad, baaad for any arbitrary number of a's\n",
      "\n",
      "animal_farm_bleat_regex = r'...' # replace the ellipsis with your regex\n",
      "test_regex('Animal farm bleat', animal_farm_bleat_regex, ['baaaaaaad', 'This is baaaaaaaaaaad!'], ['bd', 'bacd', 'baaaaa', 'sinbaaaad'])"
     ],
     "language": "python",
     "metadata": {},
     "outputs": [
      {
       "output_type": "stream",
       "stream": "stdout",
       "text": [
        "No errors in your Animal farm bleat\n"
       ]
      }
     ],
     "prompt_number": 53
    },
    {
     "cell_type": "code",
     "collapsed": false,
     "input": [
      "# Exercise 6b\n",
      "\n",
      "# Write a regex that matches the word baaad (3 a's) up to baaaaaaaaaad (10 a's).\n",
      "\n",
      "animal_farm_short_bleat_regex = r'...'\n",
      "# no need to edit below this point\n",
      "matches = ['baaaaaaad', 'This is baaaaaaaaaad!']\n",
      "nonmatches = ['bd', 'bacd', 'baaaaa', 'sinbaaaad', 'baad', 'baaaaaaaaaaaaad']\n",
      "test_regex('Animal farm short bleat', animal_farm_short_bleat_regex, matches, nonmatches)"
     ],
     "language": "python",
     "metadata": {},
     "outputs": [
      {
       "output_type": "stream",
       "stream": "stdout",
       "text": [
        "No errors in your Animal farm short bleat\n"
       ]
      }
     ],
     "prompt_number": 60
    },
    {
     "cell_type": "code",
     "collapsed": false,
     "input": [
      "# Exercise 6c\n",
      "\n",
      "# Write a regex that matches both the strings 'homebrew' and 'home-brew'\n",
      "\n",
      "homebrew_regex = r'...'\n",
      "test_regex('Homebrew regex', homebrew_regex, ['homebrew', 'home-brew'], ['home brew'])"
     ],
     "language": "python",
     "metadata": {},
     "outputs": [
      {
       "output_type": "stream",
       "stream": "stdout",
       "text": [
        "No errors in your Homebrew regex\n"
       ]
      }
     ],
     "prompt_number": 56
    },
    {
     "cell_type": "code",
     "collapsed": false,
     "input": [
      "# Exercise 6d\n",
      "\n",
      "# Following in the footsteps of Ernest Wright Homer, you're writing a book with no E's.\n",
      "# That's right, you can't even use the word 'the'. You decide to filter your wordlist so\n",
      "# contains only words with no E's. Write a regular expression to filter the dictionary.\n",
      "\n",
      "no_e_regex = r'^...$' # replace the ellipsis with a regex that matches only strings without E's. Spaces are acceptable.\n",
      "test_regex('No E regex', no_e_regex, ['Brobdingnag', 'ginormous'], ['never', 'what never?', 'no never', 'Elephant'])\n",
      "\n",
      "# Discuss: why can't we use a regex without the +/*?"
     ],
     "language": "python",
     "metadata": {},
     "outputs": []
    },
    {
     "cell_type": "code",
     "collapsed": false,
     "input": [
      "# Exercise 6e\n",
      "\n",
      "# Look at regex 1 and regex 2 defined below. How much of ab_string do you think they will match?\n",
      "\n",
      "regex1 = r'(ab)*'\n",
      "regex2 = r'ab*'\n",
      "ab_string = 'ababababa'\n",
      "\n",
      "# my guess for regex 1:\n",
      "# my guess for regex 2: \n",
      "\n",
      "print re.match(regex1, ab_string).group(0)\n",
      "print re.match(regex2, ab_string).group(0)\n",
      "\n",
      "# You can also match repetitions of multiple characters using open and close brackets"
     ],
     "language": "python",
     "metadata": {},
     "outputs": [
      {
       "output_type": "stream",
       "stream": "stdout",
       "text": [
        "abababab\n",
        "ab\n"
       ]
      }
     ],
     "prompt_number": 62
    },
    {
     "cell_type": "code",
     "collapsed": false,
     "input": [
      "# Exercise 7\n",
      "\n",
      "# Write a regex that matches filenames ending in .doc and .odt\n",
      "\n",
      "word_file_regex = r'...'\n",
      "\n",
      "test_regex('Word file regex', word_file_regex, ['math_girls.doc', 'mathgirls2.odt'], ['other.ddt', 'odt'])"
     ],
     "language": "python",
     "metadata": {},
     "outputs": [
      {
       "output_type": "stream",
       "stream": "stdout",
       "text": [
        "Your Word file regex matched other.ddt when it wasn't supposed to\n",
        "Your Word file regex matched odt when it wasn't supposed to\n"
       ]
      }
     ],
     "prompt_number": 66
    },
    {
     "cell_type": "code",
     "collapsed": false,
     "input": [
      "# Exercise 8a\n",
      "\n",
      "# Going back to the E-less book, write a function that takes a list of words\n",
      "# and returns only those words that contain no E's.\n",
      "# An outline of the function has been supplied for you.\n",
      "\n",
      "import re\n",
      "def remove_e_words(wordlist):\n",
      "    non_e_words = list()\n",
      "    for word in wordlist:\n",
      "        if ...: # replace the ellipsis with your code\n",
      "            non_e_words.append(word)\n",
      "    return non_e_words\n",
      "\n",
      "assert remove_e_words(['Acorn', 'Bread', 'Cornflakes', 'Dairy', 'Elephant ears']) == ['Acorn', 'Dairy']\n",
      "\n",
      "# Discuss: does it make sense to use re.match or re.search in this instance?"
     ],
     "language": "python",
     "metadata": {},
     "outputs": [],
     "prompt_number": 73
    },
    {
     "cell_type": "code",
     "collapsed": false,
     "input": [
      "# Exercise 8b\n",
      "\n",
      "# You want to filter a list of strings for those containing valid email addresses.\n",
      "# First write a regular expression that checks for a string containing:\n",
      "# (1) some alphanumeric stuff\n",
      "# (2) @ sign\n",
      "# (3) domain name (alphanumeric)\n",
      "# (4) .com, .org, .edu or .net (Okay, this isn't all valid email addresses)\n",
      "\n",
      "email_regex = r'...' # replace this with your regex\n",
      "\n",
      "# Now replace this with the rest of the function you need \n",
      "\n",
      "import re\n",
      "def filter_lines_with_email(list_of_lines):\n",
      "    filtered_lines = list()\n",
      "    for line in list_of_lines:\n",
      "        if ...: # replace ellipsis with your code\n",
      "            filtered_lines.append(line)\n",
      "    return filtered_lines\n",
      "\n",
      "line0 = 'This line contains a valid email address amy@gmail.com'\n",
      "line1 = 'This isn\\'t a valid email: @gmail.com'\n",
      "line2 = 'You can contact me at maf@mit.edu, anytime'\n",
      "line3 = 'If you tried to send an email to @@(@$@gmail.com I\\'m sure it would be rejected'\n",
      "\n",
      "assert filter_lines_with_email([line0, line1, line2, line3]) == [line0, line2]"
     ],
     "language": "python",
     "metadata": {},
     "outputs": [],
     "prompt_number": 75
    },
    {
     "cell_type": "code",
     "collapsed": false,
     "input": [
      "# Exercise 9\n",
      "\n",
      "# Write a regular expression to capture all email addresses that have the form ...@pyladies.org\n",
      "\n",
      "pyladies_regex = r'...' # replace the ellipsis with your email address\n",
      "\n",
      "# Then use it to capture email addresses from the following list of records\n",
      "# disclaimer: not actual email addresses :P\n",
      "our_members = \"\"\"\n",
      "Jennifer jennifer@pyladies.org\n",
      "Margaret margaret@pyladies.org\n",
      "Michelle michelle@pyladies.org \n",
      "\"\"\"\n",
      "\n",
      "# your code here\n",
      "for record in our_members.split('\\n'):\n",
      "    m = ... # put your code here\n",
      "    if m:\n",
      "        print m.group(0)"
     ],
     "language": "python",
     "metadata": {},
     "outputs": [
      {
       "output_type": "stream",
       "stream": "stdout",
       "text": [
        "jennifer@pyladies.org\n",
        "margaret@pyladies.org\n",
        "michelle@pyladies.org\n"
       ]
      }
     ],
     "prompt_number": 25
    },
    {
     "cell_type": "code",
     "collapsed": false,
     "input": [
      "# Exercise 10\n",
      "\n",
      "# Write a regular expression for finding adverbs (ending in -ly) \n",
      "# and use it in the find_adverbs() function to find all the adverbs in a sentence.\n",
      "\n",
      "adverb_regex = r'...' # replace the ellipsis with your regular expression\n",
      "def find_adverbs(sentence):\n",
      "    \"\"\"Returns a list of adverbs in the supplied sentence\"\"\"\n",
      "    return ... # replace this with your code\n",
      "\n",
      "extremely_bad_writing = \"\"\"Mary swooned breathlessly when her paramour entered the room speedily, \n",
      "relying greatly on his eagle eyes to find his lady-love lying on the bed.\"\"\"\n",
      "\n",
      "try:\n",
      "    assert find_adverbs(extremely_bad_writing) == ['breathlessly', 'speedily', 'greatly']\n",
      "except:\n",
      "    print \"Got the wrong set: \", find_adverbs(extremely_bad_writing)"
     ],
     "language": "python",
     "metadata": {},
     "outputs": [
      {
       "ename": "SyntaxError",
       "evalue": "invalid syntax (<ipython-input-23-295e381e0b1c>, line 9)",
       "output_type": "pyerr",
       "traceback": [
        "\u001b[0;36m  File \u001b[0;32m\"<ipython-input-23-295e381e0b1c>\"\u001b[0;36m, line \u001b[0;32m9\u001b[0m\n\u001b[0;31m    return ... # replace this with your code\u001b[0m\n\u001b[0m           ^\u001b[0m\n\u001b[0;31mSyntaxError\u001b[0m\u001b[0;31m:\u001b[0m invalid syntax\n"
       ]
      }
     ],
     "prompt_number": 23
    },
    {
     "cell_type": "code",
     "collapsed": false,
     "input": [
      "# Exercise 11a\n",
      "\n",
      "# Earlier, we defined a regex to find email addresses.\n",
      "# Try putting capturing parentheses around the whole thing\n",
      "# and examine the match object that results\n",
      "\n",
      "email_regex = r'(\\w+@\\w+\\.(com|org|edu|net))' # place capturing parentheses in the appropriate place\n",
      "m = re.search(email_regex, 'My email is amy@gmail.com')\n",
      "m.groups() # discuss the output of this command"
     ],
     "language": "python",
     "metadata": {},
     "outputs": [
      {
       "output_type": "pyout",
       "prompt_number": 5,
       "text": [
        "('amy@gmail.com', 'com')"
       ]
      }
     ],
     "prompt_number": 5
    },
    {
     "cell_type": "code",
     "collapsed": false,
     "input": [
      "# Exercise 11b\n",
      "\n",
      "# Rewrite the email regex so that it captures just the whole email address\n",
      "email_regex = r'\\w+@\\w+\\.(com|org|edu|net)' # fix the regex above so that it captures only the email address\n",
      "m = re.search(email_regex, 'My email is amy@gmail.com')\n",
      "m.groups()"
     ],
     "language": "python",
     "metadata": {},
     "outputs": [
      {
       "output_type": "pyout",
       "prompt_number": 7,
       "text": [
        "('com',)"
       ]
      }
     ],
     "prompt_number": 7
    },
    {
     "cell_type": "code",
     "collapsed": false,
     "input": [
      "# Exercise 12\n",
      "\n",
      "# Use the email regex to replace all email addresses with (email redacted).\n",
      "\n",
      "email_regex = r'\\w+@\\w+\\.(com|org|edu|net)'\n",
      "text_to_be_redacted = '''Amy doesn't want the whole world to see that her email is amy@gmail.com. \n",
      "Or that her backup email is amy@yahoo.com'''\n",
      "\n",
      "def redact_email(text):\n",
      "    return ... # replace the ellipsis with your code\n",
      "\n",
      "print redact_email(text_to_be_redacted)\n"
     ],
     "language": "python",
     "metadata": {},
     "outputs": [
      {
       "output_type": "stream",
       "stream": "stdout",
       "text": [
        "Amy doesn't want the whole world to see that her email is (email redacted). \n",
        "Or that her backup email is (email redacted)\n"
       ]
      }
     ],
     "prompt_number": 30
    },
    {
     "cell_type": "code",
     "collapsed": false,
     "input": [
      "# Exercise 13\n",
      "\n",
      "# You've been sent a script by a Japanese writer who, following Japanese naming conventions has put\n",
      "# the last name before the first name. Locate all the lastname-firstname pairs in the script\n",
      "# and reorder them according to Western naming conventions. The regex has been supplied to you.\n",
      "\n",
      "name_regex = r'\\b([A-Z][a-z]+)\\b \\b([A-Z][a-z]+)\\b'\n",
      "\n",
      "script = \"\"\"This scene has Mukai Miruka teaching Suzuki Tetra, Toru Yuri, and the unnamed narrator about Fermat's last theorem.\"\"\"\n",
      "\n",
      "westernised_script = re.sub(name_regex, ..., script) # replace the ellipsis with the appropriate substitution string\n",
      "print westernised_script"
     ],
     "language": "python",
     "metadata": {},
     "outputs": [
      {
       "ename": "SyntaxError",
       "evalue": "invalid syntax (<ipython-input-29-b71aee2cd272>, line 11)",
       "output_type": "pyerr",
       "traceback": [
        "\u001b[0;36m  File \u001b[0;32m\"<ipython-input-29-b71aee2cd272>\"\u001b[0;36m, line \u001b[0;32m11\u001b[0m\n\u001b[0;31m    westernised_script = re.sub(name_regex, ..., script) # replace the ellipsis with the appropriate substitution string\u001b[0m\n\u001b[0m                                            ^\u001b[0m\n\u001b[0;31mSyntaxError\u001b[0m\u001b[0;31m:\u001b[0m invalid syntax\n"
       ]
      }
     ],
     "prompt_number": 29
    },
    {
     "cell_type": "code",
     "collapsed": false,
     "input": [],
     "language": "python",
     "metadata": {},
     "outputs": []
    }
   ],
   "metadata": {}
  }
 ]
}